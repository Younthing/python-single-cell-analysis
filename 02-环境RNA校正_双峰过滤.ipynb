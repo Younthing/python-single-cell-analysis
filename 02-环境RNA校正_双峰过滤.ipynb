{
 "cells": [
  {
   "cell_type": "markdown",
   "metadata": {},
   "source": [
    " 3.环境RNA校正（可选）\n",
    "- 3.1 准备R环境\n",
    "- 3.2 创建副本、移位对数归一化\n",
    "- 3.3 邻域图、莱顿聚类\n",
    "- 3.4 准备数据传递给R\n",
    "- 3.5 准备环境RNA校正所需的原始基因矩阵\n",
    "- 3.6 调用R环境中的SoupX\n",
    "- 3.7 整合环境RNA校正结果\n",
    "- 3.8 基础过滤\n",
    "-------------------------------\n",
    "SoupX 背景矫正\n",
    "- 可以在没有聚类信息的情况下运行出\n",
    "- 如果提供基本聚类结果会更好\n",
    "- SoupX的结果对所使用的聚类类型并不强烈敏感。"
   ]
  },
  {
   "cell_type": "code",
   "execution_count": 1,
   "metadata": {},
   "outputs": [
    {
     "name": "stderr",
     "output_type": "stream",
     "text": [
      "/tmp/ipykernel_3183318/1680916089.py:10: DeprecationWarning: The global conversion available with activate() is deprecated and will be removed in the next major release. Use a local converter.\n",
      "  anndata2ri.activate()\n"
     ]
    }
   ],
   "source": [
    "## 3.1 准备R环境\n",
    "import anndata2ri\n",
    "import logging \n",
    "\n",
    "import rpy2.rinterface_lib.callbacks as rcb\n",
    "import rpy2.robjects as ro\n",
    "\n",
    "rcb.logger.setLevel(logging.CRITICAL) # \n",
    "ro.pandas2ri.activate() # type: ignore\n",
    "anndata2ri.activate()\n",
    "\n",
    "%load_ext rpy2.ipython "
   ]
  },
  {
   "cell_type": "code",
   "execution_count": 25,
   "metadata": {},
   "outputs": [
    {
     "name": "stdout",
     "output_type": "stream",
     "text": [
      "normalizing by total count per cell\n"
     ]
    },
    {
     "name": "stderr",
     "output_type": "stream",
     "text": [
      "/home/fanxi/mambaforge/envs/lang/lib/python3.11/site-packages/anndata/_core/anndata.py:1113: FutureWarning: is_categorical_dtype is deprecated and will be removed in a future version. Use isinstance(dtype, CategoricalDtype) instead\n",
      "  if not is_categorical_dtype(df_full[k]):\n"
     ]
    },
    {
     "name": "stdout",
     "output_type": "stream",
     "text": [
      "    finished (0:00:00): normalized adata.X and added    'n_counts', counts per cell before normalization (adata.obs)\n"
     ]
    }
   ],
   "source": [
    "## 3.2 读取数据、创建副本、移位对数归一化\n",
    "adata = sc.read_h5ad(\"anndata_qc.h5ad\")\n",
    "\n",
    "adata_soup = adata.copy()  # backup\n",
    "sc.pp.normalize_per_cell(adata_soup)\n",
    "sc.pp.log1p(adata_soup)"
   ]
  },
  {
   "cell_type": "code",
   "execution_count": 26,
   "metadata": {},
   "outputs": [
    {
     "name": "stdout",
     "output_type": "stream",
     "text": [
      "computing PCA\n",
      "    with n_comps=50\n",
      "    finished (0:00:21)\n",
      "    and added\n",
      "    'X_pca', the PCA coordinates (adata.obs)\n",
      "    'PC1', 'PC2', ..., the loadings (adata.var)\n",
      "    'pca_variance', the variance / eigenvalues (adata.uns)\n",
      "    'pca_variance_ratio', the variance ratio (adata.uns)\n",
      "computing neighbors\n",
      "    computing neighbors\n",
      "    using 'X_pca' with n_pcs = 50\n"
     ]
    },
    {
     "name": "stderr",
     "output_type": "stream",
     "text": [
      "/home/fanxi/mambaforge/envs/lang/lib/python3.11/site-packages/tqdm/auto.py:21: TqdmWarning: IProgress not found. Please update jupyter and ipywidgets. See https://ipywidgets.readthedocs.io/en/stable/user_install.html\n",
      "  from .autonotebook import tqdm as notebook_tqdm\n",
      "2023-10-16 10:35:51.162500: I tensorflow/core/util/port.cc:110] oneDNN custom operations are on. You may see slightly different numerical results due to floating-point round-off errors from different computation orders. To turn them off, set the environment variable `TF_ENABLE_ONEDNN_OPTS=0`.\n",
      "2023-10-16 10:35:51.186718: I tensorflow/tsl/cuda/cudart_stub.cc:28] Could not find cuda drivers on your machine, GPU will not be used.\n",
      "2023-10-16 10:35:51.363008: I tensorflow/core/platform/cpu_feature_guard.cc:182] This TensorFlow binary is optimized to use available CPU instructions in performance-critical operations.\n",
      "To enable the following instructions: AVX2 AVX512F AVX512_VNNI FMA, in other operations, rebuild TensorFlow with the appropriate compiler flags.\n",
      "2023-10-16 10:35:52.269037: W tensorflow/compiler/tf2tensorrt/utils/py_utils.cc:38] TF-TRT Warning: Could not find TensorRT\n"
     ]
    },
    {
     "name": "stdout",
     "output_type": "stream",
     "text": [
      "    computed neighbors (0:00:20)\n",
      "    computed connectivities (0:00:02)\n",
      "    finished: added to `.uns['neighbors']`\n",
      "    `.obsp['distances']`, distances for each pair of neighbors\n",
      "    `.obsp['connectivities']`, weighted adjacency matrix (0:00:23)\n",
      "running Leiden clustering\n",
      "    finished: found 42 clusters and added\n",
      "    'soupx_groups', the cluster labels (adata.obs, categorical) (0:00:12)\n"
     ]
    }
   ],
   "source": [
    "## 3.3 邻域图、莱顿聚类\n",
    "\"\"\"soupx可以不聚类,聚类后效果更好\"\"\"\n",
    "sc.pp.pca(adata_soup) # add obsm\n",
    "sc.pp.neighbors(adata_soup)# add varm\n",
    "sc.tl.leiden(adata_soup, key_added=\"soupx_groups\") # add obs\n",
    "\n",
    "# Preprocess variables for SoupX\n",
    "soupx_groups = adata_soup.obs[\"soupx_groups\"]\n",
    "del adata_soup"
   ]
  },
  {
   "cell_type": "code",
   "execution_count": 27,
   "metadata": {},
   "outputs": [],
   "source": [
    "## 3.4 准备数据传递给R\n",
    "cells = adata.obs_names\n",
    "genes = adata.var_names\n",
    "data = adata.X.T"
   ]
  },
  {
   "cell_type": "code",
   "execution_count": 28,
   "metadata": {},
   "outputs": [],
   "source": [
    "## 3.5 准备环境RNA校正所需的原始基因矩阵\n",
    "## ：是原始矩阵在cellranger的输出中三合一\n",
    "adata_raw = sc.read_h5ad(\"./anndata_raw.h5ad\")\n",
    "adata_raw.var_names_make_unique()\n",
    "data_tod = adata_raw.X.T\n",
    "\n",
    "del adata_raw"
   ]
  },
  {
   "cell_type": "code",
   "execution_count": 29,
   "metadata": {},
   "outputs": [
    {
     "name": "stdout",
     "output_type": "stream",
     "text": [
      "\n",
      "    WARNING: The R package \"reticulate\" only fixed recently\n",
      "    an issue that caused a segfault when used with rpy2:\n",
      "    https://github.com/rstudio/reticulate/pull/1188\n",
      "    Make sure that you use a version of that package that includes\n",
      "    the fix.\n",
      "    "
     ]
    },
    {
     "data": {
      "text/plain": [
       "The legacy packages maptools, rgdal, and rgeos, underpinning the sp package,\n",
       "which was just loaded, were retired in October 2023.\n",
       "Please refer to R-spatial evolution reports for details, especially\n",
       "https://r-spatial.org/r/2023/05/15/evolution4.html.\n",
       "It may be desirable to make the sf package available;\n",
       "package maintainers should consider adding sf to Suggests:.\n",
       "2932 genes passed tf-idf cut-off and 231 soup quantile filter.  Taking the top 100.\n",
       "Using 2049 independent estimates of rho.\n",
       "Estimated global rho of 0.01\n",
       "Expanding counts from 42 clusters to 26061 cells.\n",
       "In addition: Warning message:\n",
       "In sparseMatrix(i = out@i[w] + 1, j = out@j[w] + 1, x = out@x[w],  :\n",
       "  'giveCsparse' is deprecated; setting repr=\"T\" for you\n"
      ]
     },
     "metadata": {},
     "output_type": "display_data"
    }
   ],
   "source": [
    "%%R -i data -i data_tod -i genes -i cells -i soupx_groups -o out \n",
    "## 3.6 调用R环境中的SoupX\n",
    "library(SoupX)\n",
    "# specify row and column names of data\n",
    "rownames(data) = genes\n",
    "colnames(data) = cells\n",
    "# ensure correct sparse format for table of counts and table of droplets\n",
    "data <- as(data, \"sparseMatrix\")\n",
    "data_tod <- as(data_tod, \"sparseMatrix\")\n",
    "\n",
    "# Generate SoupChannel Object for SoupX \n",
    "sc = SoupChannel(data_tod, data, calcSoupProfile = FALSE)\n",
    "\n",
    "# Add extra meta data to the SoupChannel object\n",
    "soupProf = data.frame(row.names = rownames(data), est = rowSums(data)/sum(data), counts = rowSums(data))\n",
    "sc = setSoupProfile(sc, soupProf)\n",
    "# Set cluster information in SoupChannel\n",
    "sc = setClusters(sc, soupx_groups)\n",
    "\n",
    "# Estimate contamination fraction\n",
    "sc  = autoEstCont(sc, doPlot=FALSE)\n",
    "# Infer corrected table of counts and rount to integer\n",
    "out = adjustCounts(sc, roundToInt = TRUE)"
   ]
  },
  {
   "cell_type": "code",
   "execution_count": 31,
   "metadata": {},
   "outputs": [],
   "source": [
    "## 3.7 整合环境RNA校正结果\n",
    "adata.layers[\"counts\"] = adata.X\n",
    "adata.layers[\"soupX_counts\"] = out.T\n",
    "adata.X = adata.layers[\"soupX_counts\"]"
   ]
  },
  {
   "cell_type": "code",
   "execution_count": 32,
   "metadata": {},
   "outputs": [
    {
     "name": "stdout",
     "output_type": "stream",
     "text": [
      "Total number of genes: 22164\n",
      "filtered out 3 cells that have less than 200 genes expressed\n"
     ]
    },
    {
     "name": "stderr",
     "output_type": "stream",
     "text": [
      "/home/fanxi/mambaforge/envs/lang/lib/python3.11/site-packages/anndata/_core/anndata.py:1113: FutureWarning: is_categorical_dtype is deprecated and will be removed in a future version. Use isinstance(dtype, CategoricalDtype) instead\n",
      "  if not is_categorical_dtype(df_full[k]):\n"
     ]
    },
    {
     "name": "stdout",
     "output_type": "stream",
     "text": [
      "filtered out 3972 genes that are detected in less than 3 cells\n"
     ]
    },
    {
     "name": "stderr",
     "output_type": "stream",
     "text": [
      "/home/fanxi/mambaforge/envs/lang/lib/python3.11/site-packages/anndata/_core/anndata.py:1113: FutureWarning: is_categorical_dtype is deprecated and will be removed in a future version. Use isinstance(dtype, CategoricalDtype) instead\n",
      "  if not is_categorical_dtype(df_full[k]):\n"
     ]
    },
    {
     "name": "stdout",
     "output_type": "stream",
     "text": [
      "Number of genes after cell filter: 18192\n"
     ]
    }
   ],
   "source": [
    "## 3.8 基础过滤\n",
    "print(f\"Total number of genes: {adata.n_vars}\")\n",
    "sc.pp.filter_cells(adata, min_genes=200)\n",
    "sc.pp.filter_genes(adata, min_cells=3)\n",
    "print(f\"Number of genes after cell filter: {adata.n_vars}\")"
   ]
  },
  {
   "cell_type": "markdown",
   "metadata": {},
   "source": [
    " 4.双峰检测\n",
    "- 4.1 双连体过滤\n",
    "- 4.2 保存"
   ]
  },
  {
   "cell_type": "code",
   "execution_count": 33,
   "metadata": {},
   "outputs": [
    {
     "name": "stdout",
     "output_type": "stream",
     "text": [
      "Running Scrublet\n",
      "normalizing counts per cell\n",
      "    finished (0:00:00)\n",
      "extracting highly variable genes\n",
      "    finished (0:00:00)\n",
      "--> added\n",
      "    'highly_variable', boolean vector (adata.var)\n",
      "    'means', float vector (adata.var)\n",
      "    'dispersions', float vector (adata.var)\n",
      "    'dispersions_norm', float vector (adata.var)\n"
     ]
    },
    {
     "name": "stderr",
     "output_type": "stream",
     "text": [
      "/home/fanxi/mambaforge/envs/lang/lib/python3.11/site-packages/scanpy/preprocessing/_highly_variable_genes.py:215: FutureWarning: The default of observed=False is deprecated and will be changed to True in a future version of pandas. Pass observed=False to retain current behavior or observed=True to adopt the future default and silence this warning.\n",
      "  disp_grouped = df.groupby('mean_bin')['dispersions']\n",
      "/home/fanxi/mambaforge/envs/lang/lib/python3.11/site-packages/anndata/_core/anndata.py:1113: FutureWarning: is_categorical_dtype is deprecated and will be removed in a future version. Use isinstance(dtype, CategoricalDtype) instead\n",
      "  if not is_categorical_dtype(df_full[k]):\n",
      "/home/fanxi/mambaforge/envs/lang/lib/python3.11/site-packages/scanpy/preprocessing/_normalization.py:169: UserWarning: Received a view of an AnnData. Making a copy.\n",
      "  view_to_actual(adata)\n"
     ]
    },
    {
     "name": "stdout",
     "output_type": "stream",
     "text": [
      "normalizing counts per cell\n",
      "    finished (0:00:00)\n",
      "normalizing counts per cell\n",
      "    finished (0:00:00)\n",
      "Embedding transcriptomes using PCA...\n",
      "Automatically set threshold at doublet score = 0.72\n",
      "Detected doublet rate = 0.0%\n",
      "Estimated detectable doublet fraction = 4.6%\n",
      "Overall doublet rate:\n",
      "\tExpected   = 5.0%\n",
      "\tEstimated  = 0.6%\n",
      "    Scrublet finished (0:00:37)\n"
     ]
    },
    {
     "name": "stderr",
     "output_type": "stream",
     "text": [
      "/home/fanxi/mambaforge/envs/lang/lib/python3.11/site-packages/anndata/_core/anndata.py:1113: FutureWarning: is_categorical_dtype is deprecated and will be removed in a future version. Use isinstance(dtype, CategoricalDtype) instead\n",
      "  if not is_categorical_dtype(df_full[k]):\n"
     ]
    }
   ],
   "source": [
    "# 4.1 双连体过滤\n",
    "# obs 新增scrublet_score 和 predicted_doublet\n",
    "sc.external.pp.scrublet(adata, random_state=123)\n",
    "# 新增uns.scrublet\n",
    "adata = adata[adata.obs[\"predicted_doublet\"] == False, :]"
   ]
  },
  {
   "cell_type": "code",
   "execution_count": 34,
   "metadata": {},
   "outputs": [],
   "source": [
    "# 4.2 保存\n",
    "adata.write(\"anndata_scrublet.h5ad\", compression=\"gzip\") # type: ignore"
   ]
  }
 ],
 "metadata": {
  "kernelspec": {
   "display_name": "lang",
   "language": "python",
   "name": "python3"
  },
  "language_info": {
   "codemirror_mode": {
    "name": "ipython",
    "version": 3
   },
   "file_extension": ".py",
   "mimetype": "text/x-python",
   "name": "python",
   "nbconvert_exporter": "python",
   "pygments_lexer": "ipython3",
   "version": "3.11.6"
  }
 },
 "nbformat": 4,
 "nbformat_minor": 2
}
